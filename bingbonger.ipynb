{
 "cells": [
  {
   "cell_type": "markdown",
   "id": "522f846f-61d0-4c61-a1ad-aa54c8c59401",
   "metadata": {},
   "source": [
    "### Instructions\n",
    "* Select a cell and press Cmd+Enter (Ctrl+Enter) to run "
   ]
  },
  {
   "cell_type": "code",
   "execution_count": 1,
   "id": "cb8c2083-3268-4994-93d1-d5f634062d3a",
   "metadata": {
    "tags": []
   },
   "outputs": [],
   "source": [
    "from bingbong import *"
   ]
  },
  {
   "cell_type": "markdown",
   "id": "877b1361-e17c-4e21-ab2f-5e55888afac2",
   "metadata": {},
   "source": [
    "# Go through the prompt and enter tiles\n",
    "* The prompt will ask for a letter, score and tile count.\n",
    "* For score and count, there are defaults set, to accept the default just press enter"
   ]
  },
  {
   "cell_type": "code",
   "execution_count": 2,
   "id": "90664155-22ba-44d3-a794-4895864aa5a4",
   "metadata": {
    "tags": []
   },
   "outputs": [
    {
     "name": "stdout",
     "output_type": "stream",
     "text": [
      "[]\n"
     ]
    },
    {
     "name": "stdin",
     "output_type": "stream",
     "text": [
      "Letter? (done to finish) done\n"
     ]
    }
   ],
   "source": [
    "letters = get_tiles()"
   ]
  },
  {
   "cell_type": "markdown",
   "id": "b6a7557b-c0e2-48ee-9ed0-421b8539707e",
   "metadata": {},
   "source": [
    "## Make any modifications if there are mistakes"
   ]
  },
  {
   "cell_type": "code",
   "execution_count": 3,
   "id": "32cd14ff-0fbc-4773-bd75-de75b8d30d78",
   "metadata": {
    "tags": []
   },
   "outputs": [
    {
     "data": {
      "text/plain": [
       "[]"
      ]
     },
     "execution_count": 3,
     "metadata": {},
     "output_type": "execute_result"
    }
   ],
   "source": [
    "letters"
   ]
  },
  {
   "cell_type": "markdown",
   "id": "156ec628-683c-4acc-8e98-3c0e48ad0dac",
   "metadata": {},
   "source": [
    "Copy the above list into the below and change any values, or skip this cell if no modifications needed"
   ]
  },
  {
   "cell_type": "code",
   "execution_count": 2,
   "id": "499f2bb0-4dd5-4c16-8543-41c80b2eb577",
   "metadata": {
    "tags": []
   },
   "outputs": [],
   "source": [
    "# copy the list above into here and change any values, or skip this cell if no modifications\n",
    "letters = [('W', 70, 1),\n",
    " ('K', 50, 1),\n",
    " ('B', 40, 2),\n",
    " ('Y', 40, 1),\n",
    " ('C', 35, 1),\n",
    " ('D', 30, 1),\n",
    " ('N', 25, 2),\n",
    " ('T', 9, 1),\n",
    " ('I', 9, 3),\n",
    " ('L', 9, 1),\n",
    " ('R', 7, 3),\n",
    " ('A', 5, 2),\n",
    " ('E', 5, 3),\n",
    " ('S', 5, 3)]"
   ]
  },
  {
   "cell_type": "markdown",
   "id": "bc9e40e0-7b45-4cd6-ae1a-3ecbd6524bde",
   "metadata": {},
   "source": [
    "# Find words\n",
    "\n",
    "Run the below cell with appropritate inputs to get candidates.\n",
    "Inputs:\n",
    "* letters (from above)\n",
    "* used letters (str): String of used letters from elsewhere on the grid, e.g. \"DWEEB\". default: \"\"\n",
    "* fixed_slots (list): Spaces where you must use a letter, e.g. [None, \"I\", None, None, None]. default all None.\n",
    "* max_length (int): length of word, probably can only be 5 or 4 if going for the highlight. default: 5\n",
    "* perfect_length (bool): True or False depending if you want the candidate to fill the entire slot. default: False\n",
    "* doubles (int or list): Position(s) with a 2x multiplier, 0-indexed. e.g. [2, 4] means the grid looks like [],[], [2x], [], [2x]. Can enter a single position or multiple in list form.\n",
    "* triple (int): Position with a 3x multiplier\n",
    "* use_blank (boolean): True if you want to use the blank tile. Blank tile will appear as a lowercase letter and score as 0. Setting to true will make it run a bit slower. default: False. \n",
    "* topn (int): How many candidates to return, sorted by score descending.\n",
    "\n",
    "Note: this assumes that every word receives the common word 1.3 multiplier, and only draws from that list of words."
   ]
  },
  {
   "cell_type": "code",
   "execution_count": 6,
   "id": "912563fc-d64c-4df5-a415-eefb51e0b77e",
   "metadata": {
    "tags": []
   },
   "outputs": [
    {
     "data": {
      "text/plain": [
       "[([' ', 'B', 'A', 'N', 'C'], 234),\n",
       " ([' ', 'C', 'R', 'I', 'B'], 216),\n",
       " ([' ', 'C', 'A', 'R', 'B'], 211),\n",
       " ([' ', 'C', 'R', 'A', 'B'], 211),\n",
       " (('C', 'A', 'B', 'I', 'N'), 188),\n",
       " (('A', 'N', 'T', 'I', 'C'), 186),\n",
       " ([' ', 'B', 'R', 'A', 'N'], 185),\n",
       " ([' ', 'B', 'A', 'R', 'N'], 185),\n",
       " ([' ', 'B', 'E', 'A', 'N'], 182),\n",
       " (('B', 'A', 'S', 'I', 'C'), 175),\n",
       " ([' ', 'C', 'L', 'A', 'N'], 175),\n",
       " ([' ', 'N', 'A', 'R', 'C'], 172),\n",
       " (('S', 'C', 'A', 'B', 'S'), 169),\n",
       " ([' ', 'S', 'C', 'A', 'B'], 169),\n",
       " ([' ', 'B', 'E', 'N', 'T'], 167),\n",
       " ([' ', 'C', 'A', 'B', 'S'], 163),\n",
       " ([' ', 'B', 'I', 'N', 'S'], 162),\n",
       " (('S', 'C', 'A', 'N', 'T'), 160),\n",
       " (('S', 'C', 'E', 'N', 'T'), 160),\n",
       " ([' ', 'B', 'A', 'N', 'S'], 156),\n",
       " (['S', 'C', 'A', 'B', ' '], 156),\n",
       " ([' ', 'B', 'A', 'N', 'E'], 156),\n",
       " ([' ', ' ', 'C', 'A', 'B'], 156),\n",
       " ([' ', 'C', 'E', 'N', 'T'], 154),\n",
       " ([' ', 'C', 'A', 'N', 'T'], 154),\n",
       " (('B', 'R', 'A', 'I', 'N'), 154),\n",
       " ([' ', 'C', 'A', 'B', ' '], 150),\n",
       " (('S', 'C', 'A', 'N', 'S'), 150),\n",
       " ([' ', 'B', 'I', 'N', ' '], 149),\n",
       " (('B', 'A', 'S', 'I', 'N'), 149)]"
      ]
     },
     "execution_count": 6,
     "metadata": {},
     "output_type": "execute_result"
    }
   ],
   "source": [
    "\"\"\" defaults (remove variable to accept default):\n",
    "        letters, \n",
    "        used_letters=\"\", \n",
    "        fixed_slots=None, \n",
    "        max_length=5,\n",
    "        doubles=None,\n",
    "        triple=None, \n",
    "        perfect_length=False, \n",
    "        use_blank=False,\n",
    "        topn=30\n",
    "\"\"\"\n",
    "get_best_words(\n",
    "    letters, \n",
    "    used_letters=\"DWEEBIKY\", \n",
    "    fixed_slots=[None, None, None, None, None],\n",
    "    max_length=5,\n",
    "    perfect_length=False,\n",
    "    doubles=[1, 4],\n",
    "    triple=None,\n",
    "    use_blank=False,\n",
    "    topn=30\n",
    ")"
   ]
  },
  {
   "cell_type": "code",
   "execution_count": null,
   "id": "44fdc364-c633-4bcd-ab40-0af12fb30b35",
   "metadata": {},
   "outputs": [],
   "source": []
  }
 ],
 "metadata": {
  "kernelspec": {
   "display_name": "Python 3 (ipykernel)",
   "language": "python",
   "name": "python3"
  },
  "language_info": {
   "codemirror_mode": {
    "name": "ipython",
    "version": 3
   },
   "file_extension": ".py",
   "mimetype": "text/x-python",
   "name": "python",
   "nbconvert_exporter": "python",
   "pygments_lexer": "ipython3",
   "version": "3.10.4"
  }
 },
 "nbformat": 4,
 "nbformat_minor": 5
}
